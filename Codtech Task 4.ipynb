{
 "cells": [
  {
   "cell_type": "markdown",
   "id": "b5a1dbbb-95d8-4e9b-8e06-637b296f5f36",
   "metadata": {},
   "source": [
    "# Sentiment Analysis of Reddit Posts on Stress and Anxiety Using NLP"
   ]
  },
  {
   "cell_type": "markdown",
   "id": "a936877d-4598-446e-881b-55250969b7e2",
   "metadata": {},
   "source": [
    "### Importing Libraries"
   ]
  },
  {
   "cell_type": "code",
   "execution_count": 87,
   "id": "3a3cd13b-97aa-409c-a5e8-752f4748718f",
   "metadata": {},
   "outputs": [],
   "source": [
    "import pandas as pd\n",
    "import numpy as np\n",
    "import re\n",
    "import string\n",
    "import matplotlib.pyplot as plt\n",
    "import seaborn as sns\n",
    "\n",
    "from sklearn.model_selection import train_test_split\n",
    "from sklearn.feature_extraction.text import TfidfVectorizer\n",
    "from sklearn.linear_model import LogisticRegression\n",
    "from sklearn.naive_bayes import MultinomialNB\n",
    "from sklearn.metrics import classification_report, accuracy_score, confusion_matrix\n",
    "\n",
    "import nltk\n",
    "from nltk.corpus import stopwords"
   ]
  },
  {
   "cell_type": "markdown",
   "id": "256e5c2e-6528-4be4-adf4-635138070c68",
   "metadata": {},
   "source": [
    "### Load Dataset"
   ]
  },
  {
   "cell_type": "code",
   "execution_count": 90,
   "id": "67d60246-7b95-4a7b-b264-7f5681775e8c",
   "metadata": {},
   "outputs": [
    {
     "data": {
      "text/html": [
       "<div>\n",
       "<style scoped>\n",
       "    .dataframe tbody tr th:only-of-type {\n",
       "        vertical-align: middle;\n",
       "    }\n",
       "\n",
       "    .dataframe tbody tr th {\n",
       "        vertical-align: top;\n",
       "    }\n",
       "\n",
       "    .dataframe thead th {\n",
       "        text-align: right;\n",
       "    }\n",
       "</style>\n",
       "<table border=\"1\" class=\"dataframe\">\n",
       "  <thead>\n",
       "    <tr style=\"text-align: right;\">\n",
       "      <th></th>\n",
       "      <th>Text</th>\n",
       "      <th>is_stressed/anxious</th>\n",
       "    </tr>\n",
       "  </thead>\n",
       "  <tbody>\n",
       "    <tr>\n",
       "      <th>0</th>\n",
       "      <td>advice please  hey everyone please help me im ...</td>\n",
       "      <td>1</td>\n",
       "    </tr>\n",
       "    <tr>\n",
       "      <th>1</th>\n",
       "      <td>does anyone get anxious about something and th...</td>\n",
       "      <td>1</td>\n",
       "    </tr>\n",
       "    <tr>\n",
       "      <th>2</th>\n",
       "      <td>ocd is overwhelming me ocd is overwhelming me ...</td>\n",
       "      <td>1</td>\n",
       "    </tr>\n",
       "    <tr>\n",
       "      <th>3</th>\n",
       "      <td>i feel so drained and exhausted i am so tired ...</td>\n",
       "      <td>1</td>\n",
       "    </tr>\n",
       "    <tr>\n",
       "      <th>4</th>\n",
       "      <td>any advice is appreciated hey everyone \\n\\nas ...</td>\n",
       "      <td>1</td>\n",
       "    </tr>\n",
       "  </tbody>\n",
       "</table>\n",
       "</div>"
      ],
      "text/plain": [
       "                                                Text  is_stressed/anxious\n",
       "0  advice please  hey everyone please help me im ...                    1\n",
       "1  does anyone get anxious about something and th...                    1\n",
       "2  ocd is overwhelming me ocd is overwhelming me ...                    1\n",
       "3  i feel so drained and exhausted i am so tired ...                    1\n",
       "4  any advice is appreciated hey everyone \\n\\nas ...                    1"
      ]
     },
     "execution_count": 90,
     "metadata": {},
     "output_type": "execute_result"
    }
   ],
   "source": [
    "df=pd.read_csv(\"stressed_anx_data.csv\")\n",
    "df.head()"
   ]
  },
  {
   "cell_type": "markdown",
   "id": "22d35bb4-4c90-470e-b43a-3bfedb06879b",
   "metadata": {},
   "source": [
    "### Data Exploration"
   ]
  },
  {
   "cell_type": "code",
   "execution_count": 93,
   "id": "1fc157ad-b223-4d0b-a752-9a4018f28007",
   "metadata": {},
   "outputs": [
    {
     "name": "stdout",
     "output_type": "stream",
     "text": [
      "<class 'pandas.core.frame.DataFrame'>\n",
      "RangeIndex: 3999 entries, 0 to 3998\n",
      "Data columns (total 2 columns):\n",
      " #   Column               Non-Null Count  Dtype \n",
      "---  ------               --------------  ----- \n",
      " 0   Text                 3766 non-null   object\n",
      " 1   is_stressed/anxious  3999 non-null   int64 \n",
      "dtypes: int64(1), object(1)\n",
      "memory usage: 62.6+ KB\n"
     ]
    },
    {
     "data": {
      "text/plain": [
       "Text                   233\n",
       "is_stressed/anxious      0\n",
       "dtype: int64"
      ]
     },
     "execution_count": 93,
     "metadata": {},
     "output_type": "execute_result"
    }
   ],
   "source": [
    "df.info()\n",
    "df.isnull().sum()"
   ]
  },
  {
   "cell_type": "code",
   "execution_count": 95,
   "id": "95ec5923-a983-43ff-af7c-4e26d1359687",
   "metadata": {},
   "outputs": [
    {
     "name": "stdout",
     "output_type": "stream",
     "text": [
      "Nulls in Text after cleaning: 0\n"
     ]
    }
   ],
   "source": [
    "# drop null \n",
    "df = df.dropna(subset=['Text']).copy()\n",
    "# reset index\n",
    "df.reset_index(drop=True, inplace=True)\n",
    "\n",
    "print(\"Nulls in Text after cleaning:\", df['Text'].isnull().sum())"
   ]
  },
  {
   "cell_type": "code",
   "execution_count": 97,
   "id": "76d2c641-78c2-48a3-87aa-83ae88042eec",
   "metadata": {},
   "outputs": [
    {
     "name": "stdout",
     "output_type": "stream",
     "text": [
      "Duplicate posts: 52\n"
     ]
    }
   ],
   "source": [
    "print(\"Duplicate posts:\", df.duplicated(subset='Text').sum())"
   ]
  },
  {
   "cell_type": "code",
   "execution_count": 99,
   "id": "0b1666b5-88fc-4f99-968a-72cc7d5ac364",
   "metadata": {},
   "outputs": [],
   "source": [
    "df = df.drop_duplicates(subset='Text').copy()"
   ]
  },
  {
   "cell_type": "markdown",
   "id": "d1dc2659-1a10-4b1a-8f08-8eac0978ec4f",
   "metadata": {},
   "source": [
    "### Light Text Cleaning"
   ]
  },
  {
   "cell_type": "code",
   "execution_count": 102,
   "id": "7fe55675-14e0-4aac-8c61-d574194d604f",
   "metadata": {},
   "outputs": [],
   "source": [
    "import re\n",
    "import string\n",
    "\n",
    "def light_clean(text):\n",
    "    text = str(text).lower()\n",
    "    text = re.sub(r\"http\\S+|www\\S+|https\\S+\", '',text)\n",
    "    text = re.sub(r\"[^\\w\\s]\", '', text)\n",
    "    text = re.sub(r\"\\d+\", '', text)\n",
    "    text = re.sub(r\"\\s+\", ' ', text).strip()\n",
    "    return text"
   ]
  },
  {
   "cell_type": "code",
   "execution_count": 104,
   "id": "985362da-da85-40ce-8acc-b23f8cf83644",
   "metadata": {},
   "outputs": [
    {
     "data": {
      "text/html": [
       "<div>\n",
       "<style scoped>\n",
       "    .dataframe tbody tr th:only-of-type {\n",
       "        vertical-align: middle;\n",
       "    }\n",
       "\n",
       "    .dataframe tbody tr th {\n",
       "        vertical-align: top;\n",
       "    }\n",
       "\n",
       "    .dataframe thead th {\n",
       "        text-align: right;\n",
       "    }\n",
       "</style>\n",
       "<table border=\"1\" class=\"dataframe\">\n",
       "  <thead>\n",
       "    <tr style=\"text-align: right;\">\n",
       "      <th></th>\n",
       "      <th>Text</th>\n",
       "      <th>clean_text</th>\n",
       "    </tr>\n",
       "  </thead>\n",
       "  <tbody>\n",
       "    <tr>\n",
       "      <th>0</th>\n",
       "      <td>advice please  hey everyone please help me im ...</td>\n",
       "      <td>advice please hey everyone please help me im s...</td>\n",
       "    </tr>\n",
       "    <tr>\n",
       "      <th>1</th>\n",
       "      <td>does anyone get anxious about something and th...</td>\n",
       "      <td>does anyone get anxious about something and th...</td>\n",
       "    </tr>\n",
       "    <tr>\n",
       "      <th>2</th>\n",
       "      <td>ocd is overwhelming me ocd is overwhelming me ...</td>\n",
       "      <td>ocd is overwhelming me ocd is overwhelming me ...</td>\n",
       "    </tr>\n",
       "    <tr>\n",
       "      <th>3</th>\n",
       "      <td>i feel so drained and exhausted i am so tired ...</td>\n",
       "      <td>i feel so drained and exhausted i am so tired ...</td>\n",
       "    </tr>\n",
       "    <tr>\n",
       "      <th>4</th>\n",
       "      <td>any advice is appreciated hey everyone \\n\\nas ...</td>\n",
       "      <td>any advice is appreciated hey everyone as you ...</td>\n",
       "    </tr>\n",
       "  </tbody>\n",
       "</table>\n",
       "</div>"
      ],
      "text/plain": [
       "                                                Text  \\\n",
       "0  advice please  hey everyone please help me im ...   \n",
       "1  does anyone get anxious about something and th...   \n",
       "2  ocd is overwhelming me ocd is overwhelming me ...   \n",
       "3  i feel so drained and exhausted i am so tired ...   \n",
       "4  any advice is appreciated hey everyone \\n\\nas ...   \n",
       "\n",
       "                                          clean_text  \n",
       "0  advice please hey everyone please help me im s...  \n",
       "1  does anyone get anxious about something and th...  \n",
       "2  ocd is overwhelming me ocd is overwhelming me ...  \n",
       "3  i feel so drained and exhausted i am so tired ...  \n",
       "4  any advice is appreciated hey everyone as you ...  "
      ]
     },
     "execution_count": 104,
     "metadata": {},
     "output_type": "execute_result"
    }
   ],
   "source": [
    "df['clean_text'] = df['Text'].apply(light_clean)\n",
    "df[['Text', 'clean_text']].head()"
   ]
  },
  {
   "cell_type": "code",
   "execution_count": 105,
   "id": "b0e6c2ba-9789-428a-b370-03ee0f13eb17",
   "metadata": {},
   "outputs": [
    {
     "name": "stdout",
     "output_type": "stream",
     "text": [
      "Before cleaning:\n",
      " advice please  hey everyone please help me im so convinced i have a brain tumor okay so a week ago i noticed this head pressure mainly when i get up bend down its like a squeezing for a few secondsand then i get headaches on my right side does that mean that mean theres a tumor there  if it was big enough to be causing headaches on one side wouldnt there be more symptoms the headache is mostly when i get up to do things and head just feels weird when i stand up like weird lightheaded fuzzy pressure  and idk it feels tight by my nose please reassure me this isnt a brain tumor im making a appointment tomorrow and if its to far im just gonna go to the er but im terrified to sleep because im like what if i die in my sleep how would i know if its a brain tumor  im only 21 i have bad anxiety this is so scary \n",
      "\n",
      "After cleaning:\n",
      " advice please hey everyone please help me im so convinced i have a brain tumor okay so a week ago i noticed this head pressure mainly when i get up bend down its like a squeezing for a few secondsand then i get headaches on my right side does that mean that mean theres a tumor there if it was big enough to be causing headaches on one side wouldnt there be more symptoms the headache is mostly when i get up to do things and head just feels weird when i stand up like weird lightheaded fuzzy pressure and idk it feels tight by my nose please reassure me this isnt a brain tumor im making a appointment tomorrow and if its to far im just gonna go to the er but im terrified to sleep because im like what if i die in my sleep how would i know if its a brain tumor im only i have bad anxiety this is so scary\n"
     ]
    }
   ],
   "source": [
    "print(\"Before cleaning:\\n\", df['Text'].iloc[0])\n",
    "print(\"\\nAfter cleaning:\\n\", df['clean_text'].iloc[0])"
   ]
  },
  {
   "cell_type": "markdown",
   "id": "8db2f26b-fefb-4903-a78f-e610bd68520b",
   "metadata": {},
   "source": [
    "### TF IDF Vectorization"
   ]
  },
  {
   "cell_type": "code",
   "execution_count": 109,
   "id": "7d8b1f6a-55a8-4e2c-a7ad-6ff8a84d1512",
   "metadata": {},
   "outputs": [
    {
     "name": "stdout",
     "output_type": "stream",
     "text": [
      "TF-IDF Matrix Shape: (3714, 3000)\n",
      "Target Shape: (3714,)\n"
     ]
    }
   ],
   "source": [
    "tfidf = TfidfVectorizer(max_features=3000, ngram_range=(1, 2))\n",
    "X = tfidf.fit_transform(df['clean_text']).toarray()\n",
    "y = df['is_stressed/anxious']\n",
    "print(\"TF-IDF Matrix Shape:\", X.shape)  # Rows = posts, Columns = top words/phrases\n",
    "print(\"Target Shape:\", y.shape)"
   ]
  },
  {
   "cell_type": "code",
   "execution_count": 110,
   "id": "ed0762ac-44e5-4566-8d80-7b946cd55b98",
   "metadata": {},
   "outputs": [
    {
     "name": "stdout",
     "output_type": "stream",
     "text": [
      "Top 20 words/phrases in TF-IDF vocabulary:\n",
      " ['able' 'able to' 'about' 'about how' 'about it' 'about me' 'about my'\n",
      " 'about that' 'about the' 'about this' 'about to' 'about what'\n",
      " 'about years' 'absolutely' 'accept' 'across' 'act' 'action' 'activities'\n",
      " 'actual']\n"
     ]
    }
   ],
   "source": [
    "feature_names = tfidf.get_feature_names_out()\n",
    "print(\"Top 20 words/phrases in TF-IDF vocabulary:\\n\", feature_names[:20])"
   ]
  },
  {
   "cell_type": "markdown",
   "id": "1a30faf0-cdae-4fa9-994e-f688e2b4588a",
   "metadata": {},
   "source": [
    "### Train Test Split"
   ]
  },
  {
   "cell_type": "code",
   "execution_count": 114,
   "id": "7da80648-8fa3-49a8-88ed-39a489442d5a",
   "metadata": {},
   "outputs": [
    {
     "name": "stdout",
     "output_type": "stream",
     "text": [
      "Training set shape: (2971, 3000)\n",
      "Testing set shape: (743, 3000)\n",
      "Training labels distribution:\n",
      " is_stressed/anxious\n",
      "1    1873\n",
      "0    1098\n",
      "Name: count, dtype: int64\n",
      "Testing labels distribution:\n",
      " is_stressed/anxious\n",
      "1    469\n",
      "0    274\n",
      "Name: count, dtype: int64\n"
     ]
    }
   ],
   "source": [
    "from sklearn.model_selection import train_test_split\n",
    "\n",
    "# Splitting of the TF-IDF features and labels\n",
    "X_train, X_test, y_train, y_test = train_test_split(\n",
    "    X, y, test_size=0.2, random_state=42, stratify=y)\n",
    "\n",
    "print(\"Training set shape:\", X_train.shape)\n",
    "print(\"Testing set shape:\", X_test.shape)\n",
    "print(\"Training labels distribution:\\n\", y_train.value_counts())\n",
    "print(\"Testing labels distribution:\\n\", y_test.value_counts())\n"
   ]
  },
  {
   "cell_type": "markdown",
   "id": "7702a09e-e777-4cd0-ab6d-3f76112eb1d1",
   "metadata": {},
   "source": [
    "### Model Training and Evaluation"
   ]
  },
  {
   "cell_type": "markdown",
   "id": "d3710a85-28d7-4b27-b837-14c33ffbbbf0",
   "metadata": {},
   "source": [
    "#### Logistic Regression"
   ]
  },
  {
   "cell_type": "code",
   "execution_count": 118,
   "id": "211e901a-28fb-4779-9850-9fb4b8989a8f",
   "metadata": {},
   "outputs": [
    {
     "name": "stdout",
     "output_type": "stream",
     "text": [
      "Logistic Regression Accuracy: 0.6258411843876177\n",
      "\n",
      " Classification Report (Logistic Regression):\n",
      "\n",
      "              precision    recall  f1-score   support\n",
      "\n",
      "           0       0.44      0.06      0.10       274\n",
      "           1       0.64      0.96      0.76       469\n",
      "\n",
      "    accuracy                           0.63       743\n",
      "   macro avg       0.54      0.51      0.43       743\n",
      "weighted avg       0.56      0.63      0.52       743\n",
      "\n"
     ]
    }
   ],
   "source": [
    "# Initialization and training \n",
    "lr = LogisticRegression(max_iter=200)\n",
    "lr.fit(X_train, y_train)\n",
    "\n",
    "# Prediction on test set\n",
    "y_pred_lr = lr.predict(X_test)\n",
    "\n",
    "# Evaluation\n",
    "print(\"Logistic Regression Accuracy:\", accuracy_score(y_test, y_pred_lr))\n",
    "print(\"\\n Classification Report (Logistic Regression):\\n\")\n",
    "print(classification_report(y_test, y_pred_lr))"
   ]
  },
  {
   "cell_type": "markdown",
   "id": "75b6b0f9-fd42-4dac-b3f4-977b866dd631",
   "metadata": {},
   "source": [
    "#### Confusion Matrix for Logistic Regression"
   ]
  },
  {
   "cell_type": "code",
   "execution_count": 121,
   "id": "f4cf5e6a-8be0-4290-b72e-ec2d891d5da2",
   "metadata": {},
   "outputs": [
    {
     "data": {
      "image/png": "[encoded data removed]",
      "text/plain": [
       "<Figure size 640x480 with 2 Axes>"
      ]
     },
     "metadata": {},
     "output_type": "display_data"
    }
   ],
   "source": [
    "cm_lr = confusion_matrix(y_test, y_pred_lr)\n",
    "sns.heatmap(cm_lr, annot=True, fmt='d', cmap='Purples', xticklabels=['Not Stressed', 'Stressed'], yticklabels=['Not Stressed', 'Stressed'])\n",
    "plt.xlabel(\"Predicted Label\")\n",
    "plt.ylabel(\"True Label\")\n",
    "plt.title(\"Confusion Matrix - Logistic Regression\")\n",
    "plt.show()"
   ]
  },
  {
   "cell_type": "markdown",
   "id": "9a85d964-4d85-42de-9a1a-2eae10737c7c",
   "metadata": {},
   "source": [
    "#### Multinomial Naive Bayes"
   ]
  },
  {
   "cell_type": "code",
   "execution_count": 124,
   "id": "f2aca2b2-a66e-45e0-ba76-b256fa032256",
   "metadata": {},
   "outputs": [
    {
     "name": "stdout",
     "output_type": "stream",
     "text": [
      "Naive Bayes Accuracy: 0.6339165545087483\n",
      "\n",
      " Classification Report (Naive Bayes):\n",
      "\n",
      "              precision    recall  f1-score   support\n",
      "\n",
      "           0       1.00      0.01      0.01       274\n",
      "           1       0.63      1.00      0.78       469\n",
      "\n",
      "    accuracy                           0.63       743\n",
      "   macro avg       0.82      0.50      0.39       743\n",
      "weighted avg       0.77      0.63      0.49       743\n",
      "\n"
     ]
    }
   ],
   "source": [
    "nb = MultinomialNB()\n",
    "nb.fit(X_train, y_train)\n",
    "\n",
    "# Prediction\n",
    "y_pred_nb = nb.predict(X_test)\n",
    "\n",
    "# Evaluation\n",
    "print(\"Naive Bayes Accuracy:\", accuracy_score(y_test, y_pred_nb))\n",
    "print(\"\\n Classification Report (Naive Bayes):\\n\")\n",
    "print(classification_report(y_test, y_pred_nb))"
   ]
  },
  {
   "cell_type": "markdown",
   "id": "64f1aa71-bd07-453b-b3f5-6b16aa9d9fa1",
   "metadata": {},
   "source": [
    "#### Confusion Matrix for Naive Bayes"
   ]
  },
  {
   "cell_type": "code",
   "execution_count": 127,
   "id": "803b8c65-b9d4-4f78-8843-5799618475b4",
   "metadata": {},
   "outputs": [
    {
     "data": {
      "image/png": "[encoded data removed]",
      "text/plain": [
       "<Figure size 640x480 with 2 Axes>"
      ]
     },
     "metadata": {},
     "output_type": "display_data"
    }
   ],
   "source": [
    "cm_nb = confusion_matrix(y_test, y_pred_nb)\n",
    "sns.heatmap(cm_nb, annot=True, fmt='d', cmap='Greens', xticklabels=['Not Stressed', 'Stressed'], yticklabels=['Not Stressed', 'Stressed'])\n",
    "plt.xlabel(\"Predicted Label\")\n",
    "plt.ylabel(\"True Label\")\n",
    "plt.title(\"Confusion Matrix - Naive Bayes\")\n",
    "plt.show()"
   ]
  },
  {
   "cell_type": "markdown",
   "id": "29316e65-6725-41b7-924f-1cdb9d1349c8",
   "metadata": {},
   "source": [
    "### Insights and Conclusion"
   ]
  },
  {
   "cell_type": "raw",
   "id": "5d68c4c6-55b8-4649-80f9-e28bcf86b593",
   "metadata": {},
   "source": [
    "1. Both models showed strong performance for detecting stressed/anxious posts (label = 1):\n",
    "2. Naive Bayes achieved almost perfect recall for class 1, correctly identifying nearly all stressed cases.\n",
    "3. Logistic Regression also showed high recall for class 1.\n",
    "4. Performance for detecting not stressed posts (label = 0) was poor:\n",
    "5. Logistic Regression had a recall of just 0.06\n",
    "6. Naive Bayes, despite perfect precision, had a recall of 0.01, indicating it almost never predicted class 0."
   ]
  },
  {
   "cell_type": "code",
   "execution_count": null,
   "id": "35c1cf55-16a9-408d-8335-f3879473ec33",
   "metadata": {},
   "outputs": [],
   "source": []
  }
 ],
 "metadata": {
  "kernelspec": {
   "display_name": "Python [conda env:base] *",
   "language": "python",
   "name": "conda-base-py"
  },
  "language_info": {
   "codemirror_mode": {
    "name": "ipython",
    "version": 3
   },
   "file_extension": ".py",
   "mimetype": "text/x-python",
   "name": "python",
   "nbconvert_exporter": "python",
   "pygments_lexer": "ipython3",
   "version": "3.12.7"
  }
 },
 "nbformat": 4,
 "nbformat_minor": 5
}
